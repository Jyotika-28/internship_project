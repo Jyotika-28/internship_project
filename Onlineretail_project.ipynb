{
 "cells": [
  {
   "cell_type": "markdown",
   "id": "b24b4e90-1154-4c95-954f-c198caa6dfba",
   "metadata": {},
   "source": [
    "# Project Name - Online Retail Customer Segmentation"
   ]
  },
  {
   "cell_type": "markdown",
   "id": "7055d703-e86c-41d4-9b8d-be2f0f10d47e",
   "metadata": {},
   "source": [
    "## Project Type- Unsupervised"
   ]
  },
  {
   "cell_type": "markdown",
   "id": "e7c85601-4660-47a0-9e33-4a2370754df6",
   "metadata": {},
   "source": [
    "### Problem Statement -\n",
    "The objective of this project is to develop a customer segmentation model for an online retail business in order to gain valuable insights into the customer base and implement targeted strategies to enhance customer satisfaction, increase sales, and optimize marketing efforts. By analyzing transactional data and customer attributes such as purchasing behavior, demographics, and geographic location, the project aims to create meaningful customer segments that can drive personalized marketing campaigns, improve inventory management, and foster customer loyalty."
   ]
  },
  {
   "cell_type": "code",
   "execution_count": 1,
   "id": "a1ad57d5-4583-4c55-a16e-6843c75b57c9",
   "metadata": {},
   "outputs": [],
   "source": [
    "# importing libraries\n",
    "import numpy as np\n",
    "import pandas as pd\n",
    "from sklearn.preprocessing import StandardScaler, LabelEncoder\n",
    "from sklearn.feature_selection import SelectKBest, f_classif\n",
    "import matplotlib.pyplot as plt\n",
    "from sklearn.cluster import KMeans\n",
    "import seaborn as sns"
   ]
  },
  {
   "cell_type": "markdown",
   "id": "88a45f8f-2c8a-4d5c-84eb-bda6380a8303",
   "metadata": {},
   "source": [
    "## Load the data"
   ]
  },
  {
   "cell_type": "code",
   "execution_count": 2,
   "id": "a243272c-c38b-4c54-b5ec-e76aaad6f09d",
   "metadata": {},
   "outputs": [],
   "source": [
    "# dataset loading\n",
    "df=pd.read_excel(r\"C:/Users/Jyotika Phalswal/Downloads/Dataset_Identify customer segments for online retail with the use of K-means clustering\\Online Retail.xlsx\", sheet_name=\"Online Retail\")"
   ]
  },
  {
   "cell_type": "code",
   "execution_count": 3,
   "id": "f2368908-16ac-4b0c-a870-8057eacc6a4c",
   "metadata": {},
   "outputs": [
    {
     "data": {
      "text/html": [
       "<div>\n",
       "<style scoped>\n",
       "    .dataframe tbody tr th:only-of-type {\n",
       "        vertical-align: middle;\n",
       "    }\n",
       "\n",
       "    .dataframe tbody tr th {\n",
       "        vertical-align: top;\n",
       "    }\n",
       "\n",
       "    .dataframe thead th {\n",
       "        text-align: right;\n",
       "    }\n",
       "</style>\n",
       "<table border=\"1\" class=\"dataframe\">\n",
       "  <thead>\n",
       "    <tr style=\"text-align: right;\">\n",
       "      <th></th>\n",
       "      <th>InvoiceNo</th>\n",
       "      <th>StockCode</th>\n",
       "      <th>Description</th>\n",
       "      <th>Quantity</th>\n",
       "      <th>InvoiceDate</th>\n",
       "      <th>UnitPrice</th>\n",
       "      <th>CustomerID</th>\n",
       "      <th>Country</th>\n",
       "    </tr>\n",
       "  </thead>\n",
       "  <tbody>\n",
       "    <tr>\n",
       "      <th>0</th>\n",
       "      <td>536365</td>\n",
       "      <td>85123A</td>\n",
       "      <td>WHITE HANGING HEART T-LIGHT HOLDER</td>\n",
       "      <td>6</td>\n",
       "      <td>2010-12-01 08:26:00</td>\n",
       "      <td>2.55</td>\n",
       "      <td>17850.0</td>\n",
       "      <td>United Kingdom</td>\n",
       "    </tr>\n",
       "    <tr>\n",
       "      <th>1</th>\n",
       "      <td>536365</td>\n",
       "      <td>71053</td>\n",
       "      <td>WHITE METAL LANTERN</td>\n",
       "      <td>6</td>\n",
       "      <td>2010-12-01 08:26:00</td>\n",
       "      <td>3.39</td>\n",
       "      <td>17850.0</td>\n",
       "      <td>United Kingdom</td>\n",
       "    </tr>\n",
       "    <tr>\n",
       "      <th>2</th>\n",
       "      <td>536365</td>\n",
       "      <td>84406B</td>\n",
       "      <td>CREAM CUPID HEARTS COAT HANGER</td>\n",
       "      <td>8</td>\n",
       "      <td>2010-12-01 08:26:00</td>\n",
       "      <td>2.75</td>\n",
       "      <td>17850.0</td>\n",
       "      <td>United Kingdom</td>\n",
       "    </tr>\n",
       "    <tr>\n",
       "      <th>3</th>\n",
       "      <td>536365</td>\n",
       "      <td>84029G</td>\n",
       "      <td>KNITTED UNION FLAG HOT WATER BOTTLE</td>\n",
       "      <td>6</td>\n",
       "      <td>2010-12-01 08:26:00</td>\n",
       "      <td>3.39</td>\n",
       "      <td>17850.0</td>\n",
       "      <td>United Kingdom</td>\n",
       "    </tr>\n",
       "    <tr>\n",
       "      <th>4</th>\n",
       "      <td>536365</td>\n",
       "      <td>84029E</td>\n",
       "      <td>RED WOOLLY HOTTIE WHITE HEART.</td>\n",
       "      <td>6</td>\n",
       "      <td>2010-12-01 08:26:00</td>\n",
       "      <td>3.39</td>\n",
       "      <td>17850.0</td>\n",
       "      <td>United Kingdom</td>\n",
       "    </tr>\n",
       "    <tr>\n",
       "      <th>...</th>\n",
       "      <td>...</td>\n",
       "      <td>...</td>\n",
       "      <td>...</td>\n",
       "      <td>...</td>\n",
       "      <td>...</td>\n",
       "      <td>...</td>\n",
       "      <td>...</td>\n",
       "      <td>...</td>\n",
       "    </tr>\n",
       "    <tr>\n",
       "      <th>541904</th>\n",
       "      <td>581587</td>\n",
       "      <td>22613</td>\n",
       "      <td>PACK OF 20 SPACEBOY NAPKINS</td>\n",
       "      <td>12</td>\n",
       "      <td>2011-12-09 12:50:00</td>\n",
       "      <td>0.85</td>\n",
       "      <td>12680.0</td>\n",
       "      <td>France</td>\n",
       "    </tr>\n",
       "    <tr>\n",
       "      <th>541905</th>\n",
       "      <td>581587</td>\n",
       "      <td>22899</td>\n",
       "      <td>CHILDREN'S APRON DOLLY GIRL</td>\n",
       "      <td>6</td>\n",
       "      <td>2011-12-09 12:50:00</td>\n",
       "      <td>2.10</td>\n",
       "      <td>12680.0</td>\n",
       "      <td>France</td>\n",
       "    </tr>\n",
       "    <tr>\n",
       "      <th>541906</th>\n",
       "      <td>581587</td>\n",
       "      <td>23254</td>\n",
       "      <td>CHILDRENS CUTLERY DOLLY GIRL</td>\n",
       "      <td>4</td>\n",
       "      <td>2011-12-09 12:50:00</td>\n",
       "      <td>4.15</td>\n",
       "      <td>12680.0</td>\n",
       "      <td>France</td>\n",
       "    </tr>\n",
       "    <tr>\n",
       "      <th>541907</th>\n",
       "      <td>581587</td>\n",
       "      <td>23255</td>\n",
       "      <td>CHILDRENS CUTLERY CIRCUS PARADE</td>\n",
       "      <td>4</td>\n",
       "      <td>2011-12-09 12:50:00</td>\n",
       "      <td>4.15</td>\n",
       "      <td>12680.0</td>\n",
       "      <td>France</td>\n",
       "    </tr>\n",
       "    <tr>\n",
       "      <th>541908</th>\n",
       "      <td>581587</td>\n",
       "      <td>22138</td>\n",
       "      <td>BAKING SET 9 PIECE RETROSPOT</td>\n",
       "      <td>3</td>\n",
       "      <td>2011-12-09 12:50:00</td>\n",
       "      <td>4.95</td>\n",
       "      <td>12680.0</td>\n",
       "      <td>France</td>\n",
       "    </tr>\n",
       "  </tbody>\n",
       "</table>\n",
       "<p>541909 rows × 8 columns</p>\n",
       "</div>"
      ],
      "text/plain": [
       "       InvoiceNo StockCode                          Description  Quantity  \\\n",
       "0         536365    85123A   WHITE HANGING HEART T-LIGHT HOLDER         6   \n",
       "1         536365     71053                  WHITE METAL LANTERN         6   \n",
       "2         536365    84406B       CREAM CUPID HEARTS COAT HANGER         8   \n",
       "3         536365    84029G  KNITTED UNION FLAG HOT WATER BOTTLE         6   \n",
       "4         536365    84029E       RED WOOLLY HOTTIE WHITE HEART.         6   \n",
       "...          ...       ...                                  ...       ...   \n",
       "541904    581587     22613          PACK OF 20 SPACEBOY NAPKINS        12   \n",
       "541905    581587     22899         CHILDREN'S APRON DOLLY GIRL          6   \n",
       "541906    581587     23254        CHILDRENS CUTLERY DOLLY GIRL          4   \n",
       "541907    581587     23255      CHILDRENS CUTLERY CIRCUS PARADE         4   \n",
       "541908    581587     22138        BAKING SET 9 PIECE RETROSPOT          3   \n",
       "\n",
       "               InvoiceDate  UnitPrice  CustomerID         Country  \n",
       "0      2010-12-01 08:26:00       2.55     17850.0  United Kingdom  \n",
       "1      2010-12-01 08:26:00       3.39     17850.0  United Kingdom  \n",
       "2      2010-12-01 08:26:00       2.75     17850.0  United Kingdom  \n",
       "3      2010-12-01 08:26:00       3.39     17850.0  United Kingdom  \n",
       "4      2010-12-01 08:26:00       3.39     17850.0  United Kingdom  \n",
       "...                    ...        ...         ...             ...  \n",
       "541904 2011-12-09 12:50:00       0.85     12680.0          France  \n",
       "541905 2011-12-09 12:50:00       2.10     12680.0          France  \n",
       "541906 2011-12-09 12:50:00       4.15     12680.0          France  \n",
       "541907 2011-12-09 12:50:00       4.15     12680.0          France  \n",
       "541908 2011-12-09 12:50:00       4.95     12680.0          France  \n",
       "\n",
       "[541909 rows x 8 columns]"
      ]
     },
     "execution_count": 3,
     "metadata": {},
     "output_type": "execute_result"
    }
   ],
   "source": [
    "# dataset first view\n",
    "df"
   ]
  },
  {
   "cell_type": "markdown",
   "id": "10911a56-3430-499f-90a2-7c04d81a2dc1",
   "metadata": {},
   "source": [
    "## Understand the Data"
   ]
  },
  {
   "cell_type": "code",
   "execution_count": 4,
   "id": "f469b065-3d0a-4a2a-ac88-7c1fb0d418ec",
   "metadata": {},
   "outputs": [
    {
     "data": {
      "text/html": [
       "<div>\n",
       "<style scoped>\n",
       "    .dataframe tbody tr th:only-of-type {\n",
       "        vertical-align: middle;\n",
       "    }\n",
       "\n",
       "    .dataframe tbody tr th {\n",
       "        vertical-align: top;\n",
       "    }\n",
       "\n",
       "    .dataframe thead th {\n",
       "        text-align: right;\n",
       "    }\n",
       "</style>\n",
       "<table border=\"1\" class=\"dataframe\">\n",
       "  <thead>\n",
       "    <tr style=\"text-align: right;\">\n",
       "      <th></th>\n",
       "      <th>InvoiceNo</th>\n",
       "      <th>StockCode</th>\n",
       "      <th>Description</th>\n",
       "      <th>Quantity</th>\n",
       "      <th>InvoiceDate</th>\n",
       "      <th>UnitPrice</th>\n",
       "      <th>CustomerID</th>\n",
       "      <th>Country</th>\n",
       "    </tr>\n",
       "  </thead>\n",
       "  <tbody>\n",
       "    <tr>\n",
       "      <th>0</th>\n",
       "      <td>536365</td>\n",
       "      <td>85123A</td>\n",
       "      <td>WHITE HANGING HEART T-LIGHT HOLDER</td>\n",
       "      <td>6</td>\n",
       "      <td>2010-12-01 08:26:00</td>\n",
       "      <td>2.55</td>\n",
       "      <td>17850.0</td>\n",
       "      <td>United Kingdom</td>\n",
       "    </tr>\n",
       "    <tr>\n",
       "      <th>1</th>\n",
       "      <td>536365</td>\n",
       "      <td>71053</td>\n",
       "      <td>WHITE METAL LANTERN</td>\n",
       "      <td>6</td>\n",
       "      <td>2010-12-01 08:26:00</td>\n",
       "      <td>3.39</td>\n",
       "      <td>17850.0</td>\n",
       "      <td>United Kingdom</td>\n",
       "    </tr>\n",
       "    <tr>\n",
       "      <th>2</th>\n",
       "      <td>536365</td>\n",
       "      <td>84406B</td>\n",
       "      <td>CREAM CUPID HEARTS COAT HANGER</td>\n",
       "      <td>8</td>\n",
       "      <td>2010-12-01 08:26:00</td>\n",
       "      <td>2.75</td>\n",
       "      <td>17850.0</td>\n",
       "      <td>United Kingdom</td>\n",
       "    </tr>\n",
       "    <tr>\n",
       "      <th>3</th>\n",
       "      <td>536365</td>\n",
       "      <td>84029G</td>\n",
       "      <td>KNITTED UNION FLAG HOT WATER BOTTLE</td>\n",
       "      <td>6</td>\n",
       "      <td>2010-12-01 08:26:00</td>\n",
       "      <td>3.39</td>\n",
       "      <td>17850.0</td>\n",
       "      <td>United Kingdom</td>\n",
       "    </tr>\n",
       "    <tr>\n",
       "      <th>4</th>\n",
       "      <td>536365</td>\n",
       "      <td>84029E</td>\n",
       "      <td>RED WOOLLY HOTTIE WHITE HEART.</td>\n",
       "      <td>6</td>\n",
       "      <td>2010-12-01 08:26:00</td>\n",
       "      <td>3.39</td>\n",
       "      <td>17850.0</td>\n",
       "      <td>United Kingdom</td>\n",
       "    </tr>\n",
       "  </tbody>\n",
       "</table>\n",
       "</div>"
      ],
      "text/plain": [
       "  InvoiceNo StockCode                          Description  Quantity  \\\n",
       "0    536365    85123A   WHITE HANGING HEART T-LIGHT HOLDER         6   \n",
       "1    536365     71053                  WHITE METAL LANTERN         6   \n",
       "2    536365    84406B       CREAM CUPID HEARTS COAT HANGER         8   \n",
       "3    536365    84029G  KNITTED UNION FLAG HOT WATER BOTTLE         6   \n",
       "4    536365    84029E       RED WOOLLY HOTTIE WHITE HEART.         6   \n",
       "\n",
       "          InvoiceDate  UnitPrice  CustomerID         Country  \n",
       "0 2010-12-01 08:26:00       2.55     17850.0  United Kingdom  \n",
       "1 2010-12-01 08:26:00       3.39     17850.0  United Kingdom  \n",
       "2 2010-12-01 08:26:00       2.75     17850.0  United Kingdom  \n",
       "3 2010-12-01 08:26:00       3.39     17850.0  United Kingdom  \n",
       "4 2010-12-01 08:26:00       3.39     17850.0  United Kingdom  "
      ]
     },
     "execution_count": 4,
     "metadata": {},
     "output_type": "execute_result"
    }
   ],
   "source": [
    "# Display the first 5 rows of the dataset\n",
    "df.head()"
   ]
  },
  {
   "cell_type": "code",
   "execution_count": 5,
   "id": "303d4e44-6691-4054-ae72-f106572c637b",
   "metadata": {},
   "outputs": [
    {
     "name": "stdout",
     "output_type": "stream",
     "text": [
      "<class 'pandas.core.frame.DataFrame'>\n",
      "RangeIndex: 541909 entries, 0 to 541908\n",
      "Data columns (total 8 columns):\n",
      " #   Column       Non-Null Count   Dtype         \n",
      "---  ------       --------------   -----         \n",
      " 0   InvoiceNo    541909 non-null  object        \n",
      " 1   StockCode    541909 non-null  object        \n",
      " 2   Description  540455 non-null  object        \n",
      " 3   Quantity     541909 non-null  int64         \n",
      " 4   InvoiceDate  541909 non-null  datetime64[ns]\n",
      " 5   UnitPrice    541909 non-null  float64       \n",
      " 6   CustomerID   406829 non-null  float64       \n",
      " 7   Country      541909 non-null  object        \n",
      "dtypes: datetime64[ns](1), float64(2), int64(1), object(4)\n",
      "memory usage: 33.1+ MB\n"
     ]
    }
   ],
   "source": [
    "# Dataset Info\n",
    "df.info()"
   ]
  },
  {
   "cell_type": "code",
   "execution_count": 6,
   "id": "a9b9b783-e970-4244-a662-b649525ae8cf",
   "metadata": {},
   "outputs": [
    {
     "data": {
      "text/html": [
       "<div>\n",
       "<style scoped>\n",
       "    .dataframe tbody tr th:only-of-type {\n",
       "        vertical-align: middle;\n",
       "    }\n",
       "\n",
       "    .dataframe tbody tr th {\n",
       "        vertical-align: top;\n",
       "    }\n",
       "\n",
       "    .dataframe thead th {\n",
       "        text-align: right;\n",
       "    }\n",
       "</style>\n",
       "<table border=\"1\" class=\"dataframe\">\n",
       "  <thead>\n",
       "    <tr style=\"text-align: right;\">\n",
       "      <th></th>\n",
       "      <th>Quantity</th>\n",
       "      <th>InvoiceDate</th>\n",
       "      <th>UnitPrice</th>\n",
       "      <th>CustomerID</th>\n",
       "    </tr>\n",
       "  </thead>\n",
       "  <tbody>\n",
       "    <tr>\n",
       "      <th>count</th>\n",
       "      <td>541909.000000</td>\n",
       "      <td>541909</td>\n",
       "      <td>541909.000000</td>\n",
       "      <td>406829.000000</td>\n",
       "    </tr>\n",
       "    <tr>\n",
       "      <th>mean</th>\n",
       "      <td>9.552250</td>\n",
       "      <td>2011-07-04 13:34:57.156386048</td>\n",
       "      <td>4.611114</td>\n",
       "      <td>15287.690570</td>\n",
       "    </tr>\n",
       "    <tr>\n",
       "      <th>min</th>\n",
       "      <td>-80995.000000</td>\n",
       "      <td>2010-12-01 08:26:00</td>\n",
       "      <td>-11062.060000</td>\n",
       "      <td>12346.000000</td>\n",
       "    </tr>\n",
       "    <tr>\n",
       "      <th>25%</th>\n",
       "      <td>1.000000</td>\n",
       "      <td>2011-03-28 11:34:00</td>\n",
       "      <td>1.250000</td>\n",
       "      <td>13953.000000</td>\n",
       "    </tr>\n",
       "    <tr>\n",
       "      <th>50%</th>\n",
       "      <td>3.000000</td>\n",
       "      <td>2011-07-19 17:17:00</td>\n",
       "      <td>2.080000</td>\n",
       "      <td>15152.000000</td>\n",
       "    </tr>\n",
       "    <tr>\n",
       "      <th>75%</th>\n",
       "      <td>10.000000</td>\n",
       "      <td>2011-10-19 11:27:00</td>\n",
       "      <td>4.130000</td>\n",
       "      <td>16791.000000</td>\n",
       "    </tr>\n",
       "    <tr>\n",
       "      <th>max</th>\n",
       "      <td>80995.000000</td>\n",
       "      <td>2011-12-09 12:50:00</td>\n",
       "      <td>38970.000000</td>\n",
       "      <td>18287.000000</td>\n",
       "    </tr>\n",
       "    <tr>\n",
       "      <th>std</th>\n",
       "      <td>218.081158</td>\n",
       "      <td>NaN</td>\n",
       "      <td>96.759853</td>\n",
       "      <td>1713.600303</td>\n",
       "    </tr>\n",
       "  </tbody>\n",
       "</table>\n",
       "</div>"
      ],
      "text/plain": [
       "            Quantity                    InvoiceDate      UnitPrice  \\\n",
       "count  541909.000000                         541909  541909.000000   \n",
       "mean        9.552250  2011-07-04 13:34:57.156386048       4.611114   \n",
       "min    -80995.000000            2010-12-01 08:26:00  -11062.060000   \n",
       "25%         1.000000            2011-03-28 11:34:00       1.250000   \n",
       "50%         3.000000            2011-07-19 17:17:00       2.080000   \n",
       "75%        10.000000            2011-10-19 11:27:00       4.130000   \n",
       "max     80995.000000            2011-12-09 12:50:00   38970.000000   \n",
       "std       218.081158                            NaN      96.759853   \n",
       "\n",
       "          CustomerID  \n",
       "count  406829.000000  \n",
       "mean    15287.690570  \n",
       "min     12346.000000  \n",
       "25%     13953.000000  \n",
       "50%     15152.000000  \n",
       "75%     16791.000000  \n",
       "max     18287.000000  \n",
       "std      1713.600303  "
      ]
     },
     "execution_count": 6,
     "metadata": {},
     "output_type": "execute_result"
    }
   ],
   "source": [
    "# Statistical summary of the dataset\n",
    "df.describe()"
   ]
  },
  {
   "cell_type": "code",
   "execution_count": 7,
   "id": "69a5b462-0d99-456f-bf8d-72f049932ac2",
   "metadata": {},
   "outputs": [
    {
     "data": {
      "text/plain": [
       "InvoiceNo           0\n",
       "StockCode           0\n",
       "Description      1454\n",
       "Quantity            0\n",
       "InvoiceDate         0\n",
       "UnitPrice           0\n",
       "CustomerID     135080\n",
       "Country             0\n",
       "dtype: int64"
      ]
     },
     "execution_count": 7,
     "metadata": {},
     "output_type": "execute_result"
    }
   ],
   "source": [
    "#checking for missing values\n",
    "df.isnull().sum()"
   ]
  },
  {
   "cell_type": "markdown",
   "id": "62c998fb-0feb-48d6-a471-bdac38205f61",
   "metadata": {},
   "source": [
    "## Clean the data"
   ]
  },
  {
   "cell_type": "code",
   "execution_count": 8,
   "id": "c2f5eb6d-0ac2-4310-9a44-25481d0ff4a8",
   "metadata": {},
   "outputs": [],
   "source": [
    "# Handle missing values by dropping rows with missing values\n",
    "df_cleaned = df.dropna()"
   ]
  },
  {
   "cell_type": "code",
   "execution_count": 9,
   "id": "082a2e38-1db3-4f16-acff-285b25995481",
   "metadata": {},
   "outputs": [],
   "source": [
    "# Remove duplicate entries\n",
    "df_cleaned = df_cleaned.drop_duplicates()"
   ]
  },
  {
   "cell_type": "code",
   "execution_count": 10,
   "id": "4e0db0a5-a4e2-489c-92bb-75e36c3ebc99",
   "metadata": {},
   "outputs": [
    {
     "data": {
      "text/plain": [
       "InvoiceNo              object\n",
       "StockCode              object\n",
       "Description            object\n",
       "Quantity                int64\n",
       "InvoiceDate    datetime64[ns]\n",
       "UnitPrice             float64\n",
       "CustomerID            float64\n",
       "Country                object\n",
       "dtype: object"
      ]
     },
     "execution_count": 10,
     "metadata": {},
     "output_type": "execute_result"
    }
   ],
   "source": [
    "# Check for data types and correct if necessary\n",
    "df_cleaned.dtypes"
   ]
  },
  {
   "cell_type": "code",
   "execution_count": 11,
   "id": "1e1eb5c8-bdad-4100-b41c-56819cb026cb",
   "metadata": {},
   "outputs": [],
   "source": [
    "# Convert 'InvoiceDate' to datetime if it's not already\n",
    "df_cleaned['InvoiceDate'] = pd.to_datetime(df_cleaned['InvoiceDate'])"
   ]
  },
  {
   "cell_type": "code",
   "execution_count": 12,
   "id": "70920765-365e-4268-ac61-28d06d854986",
   "metadata": {},
   "outputs": [
    {
     "name": "stdout",
     "output_type": "stream",
     "text": [
      "<class 'pandas.core.frame.DataFrame'>\n",
      "Index: 401604 entries, 0 to 541908\n",
      "Data columns (total 8 columns):\n",
      " #   Column       Non-Null Count   Dtype         \n",
      "---  ------       --------------   -----         \n",
      " 0   InvoiceNo    401604 non-null  object        \n",
      " 1   StockCode    401604 non-null  object        \n",
      " 2   Description  401604 non-null  object        \n",
      " 3   Quantity     401604 non-null  int64         \n",
      " 4   InvoiceDate  401604 non-null  datetime64[ns]\n",
      " 5   UnitPrice    401604 non-null  float64       \n",
      " 6   CustomerID   401604 non-null  float64       \n",
      " 7   Country      401604 non-null  object        \n",
      "dtypes: datetime64[ns](1), float64(2), int64(1), object(4)\n",
      "memory usage: 27.6+ MB\n"
     ]
    }
   ],
   "source": [
    "# Display the cleaned dataframe's info\n",
    "df_cleaned.info()"
   ]
  },
  {
   "cell_type": "markdown",
   "id": "969531ab-18ed-422e-9c5f-04b5a5cee173",
   "metadata": {},
   "source": [
    "## Transform the data"
   ]
  },
  {
   "cell_type": "code",
   "execution_count": 13,
   "id": "db89937c-71e8-483d-a0b1-7deace670042",
   "metadata": {},
   "outputs": [],
   "source": [
    "# Select numerical columns for standardization\n",
    "numerical_cols = df_cleaned.select_dtypes(include=['float64', 'int64']).columns\n",
    "scaler = StandardScaler()"
   ]
  },
  {
   "cell_type": "code",
   "execution_count": 14,
   "id": "b2df948e-b31e-4f33-9bde-bdbf475a10db",
   "metadata": {},
   "outputs": [],
   "source": [
    "# Apply standardization\n",
    "df_cleaned[numerical_cols] = scaler.fit_transform(df_cleaned[numerical_cols])"
   ]
  },
  {
   "cell_type": "code",
   "execution_count": 15,
   "id": "3b506195-164f-4f1b-9abb-6ebc9192452b",
   "metadata": {},
   "outputs": [],
   "source": [
    "# Identify categorical columns\n",
    "categorical_columns = df_cleaned.select_dtypes(include=['object']).columns"
   ]
  },
  {
   "cell_type": "code",
   "execution_count": 16,
   "id": "9004ecda-fdce-4126-a55a-7ead9fba5ed4",
   "metadata": {},
   "outputs": [],
   "source": [
    "# Convert all categorical columns to strings\n",
    "for col in categorical_columns:\n",
    "    df_cleaned[col] = df_cleaned[col].astype(str)"
   ]
  },
  {
   "cell_type": "code",
   "execution_count": 17,
   "id": "451f0f4e-f3a7-413e-b61d-d3448c651bd3",
   "metadata": {},
   "outputs": [],
   "source": [
    "# Encode categorical variables\n",
    "label_encoders = {}\n",
    "for col in categorical_columns:\n",
    "    le = LabelEncoder()\n",
    "    df_cleaned[col] = le.fit_transform(df_cleaned[col])\n",
    "    label_encoders[col] = le"
   ]
  },
  {
   "cell_type": "code",
   "execution_count": 18,
   "id": "98f21bc7-42af-4151-8366-8e86bd684df9",
   "metadata": {},
   "outputs": [
    {
     "name": "stdout",
     "output_type": "stream",
     "text": [
      "Index(['InvoiceNo', 'StockCode', 'Description', 'Quantity', 'InvoiceDate',\n",
      "       'UnitPrice', 'CustomerID', 'Country'],\n",
      "      dtype='object')\n"
     ]
    }
   ],
   "source": [
    "# Check column names to verify the presence of 'InvoiceDate'\n",
    "print(df_cleaned.columns)"
   ]
  },
  {
   "cell_type": "code",
   "execution_count": 19,
   "id": "b26af844-7aea-4c92-977c-5f2103fda9f4",
   "metadata": {},
   "outputs": [],
   "source": [
    "# Convert 'InvoiceDate' to numerical features\n",
    "df_cleaned['InvoiceYear'] = df_cleaned['InvoiceDate'].dt.year\n",
    "df_cleaned['InvoiceMonth'] = df_cleaned['InvoiceDate'].dt.month\n",
    "df_cleaned['InvoiceDay'] = df_cleaned['InvoiceDate'].dt.day\n",
    "df_cleaned['InvoiceHour'] = df_cleaned['InvoiceDate'].dt.hour\n",
    "df_cleaned['InvoiceMinute'] = df_cleaned['InvoiceDate'].dt.minute"
   ]
  },
  {
   "cell_type": "code",
   "execution_count": 20,
   "id": "a2463389-115b-46da-9897-679cd81fd4dd",
   "metadata": {},
   "outputs": [],
   "source": [
    "# Drop the original 'InvoiceDate' column\n",
    "df_cleaned = df_cleaned.drop(['InvoiceDate'], axis=1)"
   ]
  },
  {
   "cell_type": "code",
   "execution_count": 21,
   "id": "989124a7-3ae1-47ac-a281-bac3a07c0ec2",
   "metadata": {},
   "outputs": [
    {
     "data": {
      "text/plain": [
       "InvoiceNo          int32\n",
       "StockCode          int32\n",
       "Description        int32\n",
       "Quantity         float64\n",
       "UnitPrice        float64\n",
       "CustomerID       float64\n",
       "Country            int32\n",
       "InvoiceYear        int32\n",
       "InvoiceMonth       int32\n",
       "InvoiceDay         int32\n",
       "InvoiceHour        int32\n",
       "InvoiceMinute      int32\n",
       "dtype: object"
      ]
     },
     "execution_count": 21,
     "metadata": {},
     "output_type": "execute_result"
    }
   ],
   "source": [
    "# Ensure all data is numeric\n",
    "df_cleaned.dtypes"
   ]
  },
  {
   "cell_type": "code",
   "execution_count": 22,
   "id": "4520d6f8-9bce-4a26-86cc-a226b1561f23",
   "metadata": {},
   "outputs": [
    {
     "data": {
      "text/html": [
       "<div>\n",
       "<style scoped>\n",
       "    .dataframe tbody tr th:only-of-type {\n",
       "        vertical-align: middle;\n",
       "    }\n",
       "\n",
       "    .dataframe tbody tr th {\n",
       "        vertical-align: top;\n",
       "    }\n",
       "\n",
       "    .dataframe thead th {\n",
       "        text-align: right;\n",
       "    }\n",
       "</style>\n",
       "<table border=\"1\" class=\"dataframe\">\n",
       "  <thead>\n",
       "    <tr style=\"text-align: right;\">\n",
       "      <th></th>\n",
       "      <th>InvoiceNo</th>\n",
       "      <th>StockCode</th>\n",
       "      <th>Description</th>\n",
       "      <th>Quantity</th>\n",
       "      <th>UnitPrice</th>\n",
       "      <th>CustomerID</th>\n",
       "      <th>Country</th>\n",
       "      <th>InvoiceYear</th>\n",
       "      <th>InvoiceMonth</th>\n",
       "      <th>InvoiceDay</th>\n",
       "      <th>InvoiceHour</th>\n",
       "      <th>InvoiceMinute</th>\n",
       "    </tr>\n",
       "  </thead>\n",
       "  <tbody>\n",
       "    <tr>\n",
       "      <th>0</th>\n",
       "      <td>0</td>\n",
       "      <td>3249</td>\n",
       "      <td>3716</td>\n",
       "      <td>-0.024705</td>\n",
       "      <td>-0.013246</td>\n",
       "      <td>1.498736</td>\n",
       "      <td>35</td>\n",
       "      <td>2010</td>\n",
       "      <td>12</td>\n",
       "      <td>1</td>\n",
       "      <td>8</td>\n",
       "      <td>26</td>\n",
       "    </tr>\n",
       "    <tr>\n",
       "      <th>1</th>\n",
       "      <td>0</td>\n",
       "      <td>2649</td>\n",
       "      <td>3724</td>\n",
       "      <td>-0.024705</td>\n",
       "      <td>-0.001205</td>\n",
       "      <td>1.498736</td>\n",
       "      <td>35</td>\n",
       "      <td>2010</td>\n",
       "      <td>12</td>\n",
       "      <td>1</td>\n",
       "      <td>8</td>\n",
       "      <td>26</td>\n",
       "    </tr>\n",
       "    <tr>\n",
       "      <th>2</th>\n",
       "      <td>0</td>\n",
       "      <td>2855</td>\n",
       "      <td>861</td>\n",
       "      <td>-0.016714</td>\n",
       "      <td>-0.010379</td>\n",
       "      <td>1.498736</td>\n",
       "      <td>35</td>\n",
       "      <td>2010</td>\n",
       "      <td>12</td>\n",
       "      <td>1</td>\n",
       "      <td>8</td>\n",
       "      <td>26</td>\n",
       "    </tr>\n",
       "    <tr>\n",
       "      <th>3</th>\n",
       "      <td>0</td>\n",
       "      <td>2803</td>\n",
       "      <td>1813</td>\n",
       "      <td>-0.024705</td>\n",
       "      <td>-0.001205</td>\n",
       "      <td>1.498736</td>\n",
       "      <td>35</td>\n",
       "      <td>2010</td>\n",
       "      <td>12</td>\n",
       "      <td>1</td>\n",
       "      <td>8</td>\n",
       "      <td>26</td>\n",
       "    </tr>\n",
       "    <tr>\n",
       "      <th>4</th>\n",
       "      <td>0</td>\n",
       "      <td>2802</td>\n",
       "      <td>2776</td>\n",
       "      <td>-0.024705</td>\n",
       "      <td>-0.001205</td>\n",
       "      <td>1.498736</td>\n",
       "      <td>35</td>\n",
       "      <td>2010</td>\n",
       "      <td>12</td>\n",
       "      <td>1</td>\n",
       "      <td>8</td>\n",
       "      <td>26</td>\n",
       "    </tr>\n",
       "  </tbody>\n",
       "</table>\n",
       "</div>"
      ],
      "text/plain": [
       "   InvoiceNo  StockCode  Description  Quantity  UnitPrice  CustomerID  \\\n",
       "0          0       3249         3716 -0.024705  -0.013246    1.498736   \n",
       "1          0       2649         3724 -0.024705  -0.001205    1.498736   \n",
       "2          0       2855          861 -0.016714  -0.010379    1.498736   \n",
       "3          0       2803         1813 -0.024705  -0.001205    1.498736   \n",
       "4          0       2802         2776 -0.024705  -0.001205    1.498736   \n",
       "\n",
       "   Country  InvoiceYear  InvoiceMonth  InvoiceDay  InvoiceHour  InvoiceMinute  \n",
       "0       35         2010            12           1            8             26  \n",
       "1       35         2010            12           1            8             26  \n",
       "2       35         2010            12           1            8             26  \n",
       "3       35         2010            12           1            8             26  \n",
       "4       35         2010            12           1            8             26  "
      ]
     },
     "execution_count": 22,
     "metadata": {},
     "output_type": "execute_result"
    }
   ],
   "source": [
    "# Display the transformed dataframe\n",
    "df_cleaned.head()"
   ]
  },
  {
   "cell_type": "markdown",
   "id": "e980f8db-52fa-4854-accc-b4539dc13d6b",
   "metadata": {},
   "source": [
    "## Feature Engineering"
   ]
  },
  {
   "cell_type": "code",
   "execution_count": 23,
   "id": "6a7fa489-b933-4964-b77e-5d0c65b78675",
   "metadata": {},
   "outputs": [],
   "source": [
    "# Create a new feature: TotalPrice\n",
    "df_cleaned['TotalPrice'] = df_cleaned['Quantity'] * df_cleaned['UnitPrice']"
   ]
  },
  {
   "cell_type": "code",
   "execution_count": 24,
   "id": "27575348-2681-45f6-bb53-4b72627fc81a",
   "metadata": {},
   "outputs": [],
   "source": [
    "# Perform feature selection\n",
    "# Assume we are predicting 'TotalPrice' and use other columns as features\n",
    "X = df_cleaned.drop(['TotalPrice'], axis=1)\n",
    "y = df_cleaned['TotalPrice']"
   ]
  },
  {
   "cell_type": "code",
   "execution_count": 25,
   "id": "2f732db6-b8ec-4dfb-9abc-43ed3b127c6a",
   "metadata": {},
   "outputs": [
    {
     "name": "stderr",
     "output_type": "stream",
     "text": [
      "C:\\Users\\Jyotika Phalswal\\AppData\\Local\\Programs\\Python\\Python312\\Lib\\site-packages\\sklearn\\feature_selection\\_univariate_selection.py:113: RuntimeWarning: divide by zero encountered in divide\n",
      "  f = msb / msw\n"
     ]
    }
   ],
   "source": [
    "# Select the top 5 features\n",
    "selector = SelectKBest(score_func=f_classif, k=5)\n",
    "X_new = selector.fit_transform(X, y)"
   ]
  },
  {
   "cell_type": "code",
   "execution_count": 26,
   "id": "137af865-e1de-48a1-bbd8-a02a438aaa10",
   "metadata": {},
   "outputs": [],
   "source": [
    "# Get the selected feature names\n",
    "selected_features = X.columns[selector.get_support()]"
   ]
  },
  {
   "cell_type": "code",
   "execution_count": 27,
   "id": "cbf58b14-35ba-427d-af0d-ea82ed00c4a1",
   "metadata": {},
   "outputs": [
    {
     "data": {
      "text/plain": [
       "Index(['InvoiceNo', 'StockCode', 'Description', 'Quantity', 'UnitPrice'], dtype='object')"
      ]
     },
     "execution_count": 27,
     "metadata": {},
     "output_type": "execute_result"
    }
   ],
   "source": [
    "# Display selected features\n",
    "selected_features"
   ]
  },
  {
   "cell_type": "markdown",
   "id": "f1a49f1f-c514-40f6-a0a9-b597ca1c4871",
   "metadata": {},
   "source": [
    "## Standardize the Data"
   ]
  },
  {
   "cell_type": "code",
   "execution_count": 28,
   "id": "f937408b-c00a-49ca-ada0-743418ff3a01",
   "metadata": {},
   "outputs": [],
   "source": [
    "# Select the features to be standardized\n",
    "features = ['Quantity', 'UnitPrice']"
   ]
  },
  {
   "cell_type": "code",
   "execution_count": 29,
   "id": "98612bd1-b266-4cc3-9ee6-2659e5de2840",
   "metadata": {},
   "outputs": [],
   "source": [
    "# Standardize the features\n",
    "scaler = StandardScaler()\n",
    "df[features] = scaler.fit_transform(df[features])"
   ]
  },
  {
   "cell_type": "code",
   "execution_count": 30,
   "id": "9f8acc8f-729c-44bb-97fe-db506c34f84d",
   "metadata": {},
   "outputs": [
    {
     "name": "stdout",
     "output_type": "stream",
     "text": [
      "   Quantity  UnitPrice\n",
      "0 -0.016289  -0.021301\n",
      "1 -0.016289  -0.012620\n",
      "2 -0.007118  -0.019234\n",
      "3 -0.016289  -0.012620\n",
      "4 -0.016289  -0.012620\n"
     ]
    }
   ],
   "source": [
    "# Display the standardized features\n",
    "print(df[features].head())"
   ]
  },
  {
   "cell_type": "markdown",
   "id": "0cea091e-09c8-4107-a917-f863333e5a19",
   "metadata": {},
   "source": [
    "## Determine the Optimal Number of Clusters using the Elbow Method"
   ]
  },
  {
   "cell_type": "code",
   "execution_count": 31,
   "id": "19772813-97dd-4564-85a9-529b69ece107",
   "metadata": {},
   "outputs": [],
   "source": [
    "# Calculate WCSS for different number of clusters\n",
    "wcss = []\n",
    "for i in range(1, 11):\n",
    "    kmeans = KMeans(n_clusters=i, random_state=42)\n",
    "    kmeans.fit(df[features])\n",
    "    wcss.append(kmeans.inertia_)"
   ]
  },
  {
   "cell_type": "code",
   "execution_count": 32,
   "id": "0e852179-6fab-49e8-8b58-93dd7c8cd4bd",
   "metadata": {},
   "outputs": [
    {
     "data": {
      "image/png": "[encoded data removed]",
      "text/plain": [
       "<Figure size 1000x500 with 1 Axes>"
      ]
     },
     "metadata": {},
     "output_type": "display_data"
    }
   ],
   "source": [
    "# Plot the WCSS against the number of clusters\n",
    "plt.figure(figsize=(10, 5))\n",
    "plt.plot(range(1, 11), wcss, marker='o')\n",
    "plt.title('Elbow Method')\n",
    "plt.xlabel('Number of Clusters')\n",
    "plt.ylabel('WCSS')\n",
    "plt.show()"
   ]
  },
  {
   "cell_type": "markdown",
   "id": "fde68694-f40d-464f-82b8-e410c1ad4db0",
   "metadata": {},
   "source": [
    "#### The determination of the optimal number of clusters using the elbow method involves identifying the point where the within-cluster sum of squares (WCSS) starts to decrease more slowly.In your case, the decrease from 𝑘=3 to k=4 is less steep compared to the decrease from k=2 to k=4 , suggesting that k=3 might be the optimal choice. "
   ]
  },
  {
   "cell_type": "markdown",
   "id": "267e216b-7ff1-4541-beb2-8987b61015e6",
   "metadata": {},
   "source": [
    "## Run K-Means Clustering"
   ]
  },
  {
   "cell_type": "code",
   "execution_count": 33,
   "id": "57305400-1a7f-4ad6-82e5-ffecfcfe8eb0",
   "metadata": {},
   "outputs": [],
   "source": [
    "# Run K-Means clustering with the optimal number of clusters\n",
    "optimal_clusters = 3  \n",
    "kmeans = KMeans(n_clusters=optimal_clusters, random_state=42)\n",
    "df['Cluster'] = kmeans.fit_predict(df[features])"
   ]
  },
  {
   "cell_type": "code",
   "execution_count": 34,
   "id": "8a35dd9e-6327-4c7d-a68b-eb9297b70010",
   "metadata": {},
   "outputs": [
    {
     "name": "stdout",
     "output_type": "stream",
     "text": [
      "Cluster\n",
      "0    541876\n",
      "1        31\n",
      "2         2\n",
      "Name: count, dtype: int64\n"
     ]
    }
   ],
   "source": [
    "print(df['Cluster'].value_counts())"
   ]
  },
  {
   "cell_type": "code",
   "execution_count": 35,
   "id": "a45aa455-70bc-4ce5-bbd0-66cf01c62b9c",
   "metadata": {},
   "outputs": [
    {
     "name": "stdout",
     "output_type": "stream",
     "text": [
      "  InvoiceNo StockCode                          Description  Quantity  \\\n",
      "0    536365    85123A   WHITE HANGING HEART T-LIGHT HOLDER -0.016289   \n",
      "1    536365     71053                  WHITE METAL LANTERN -0.016289   \n",
      "2    536365    84406B       CREAM CUPID HEARTS COAT HANGER -0.007118   \n",
      "3    536365    84029G  KNITTED UNION FLAG HOT WATER BOTTLE -0.016289   \n",
      "4    536365    84029E       RED WOOLLY HOTTIE WHITE HEART. -0.016289   \n",
      "\n",
      "          InvoiceDate  UnitPrice  CustomerID         Country  Cluster  \n",
      "0 2010-12-01 08:26:00  -0.021301     17850.0  United Kingdom        0  \n",
      "1 2010-12-01 08:26:00  -0.012620     17850.0  United Kingdom        0  \n",
      "2 2010-12-01 08:26:00  -0.019234     17850.0  United Kingdom        0  \n",
      "3 2010-12-01 08:26:00  -0.012620     17850.0  United Kingdom        0  \n",
      "4 2010-12-01 08:26:00  -0.012620     17850.0  United Kingdom        0  \n"
     ]
    }
   ],
   "source": [
    "# Display the first few rows with cluster labels\n",
    "print(df.head())"
   ]
  },
  {
   "cell_type": "markdown",
   "id": "c8c5868d-d67e-44dc-a63c-ea32d7afa80e",
   "metadata": {},
   "source": [
    "## Visualize the clusters"
   ]
  },
  {
   "cell_type": "code",
   "execution_count": 36,
   "id": "0d3c7c4d-e8ee-4f88-bd14-0a16d14f2828",
   "metadata": {},
   "outputs": [
    {
     "data": {
      "image/png": "[encoded data removed]",
      "text/plain": [
       "<Figure size 1000x600 with 1 Axes>"
      ]
     },
     "metadata": {},
     "output_type": "display_data"
    }
   ],
   "source": [
    "# Visualize the clusters using scatter plots\n",
    "plt.figure(figsize=(10, 6))\n",
    "sns.scatterplot(x='Quantity', y='UnitPrice', hue='Cluster', data=df, palette='viridis')\n",
    "plt.scatter(kmeans.cluster_centers_[:, 0], kmeans.cluster_centers_[:, 1], s=300, c='red', label='Centroids')\n",
    "plt.title('Customer Segmentation')\n",
    "plt.xlabel('Quantity')\n",
    "plt.ylabel('UnitPrice')\n",
    "plt.legend()\n",
    "plt.show()"
   ]
  },
  {
   "cell_type": "markdown",
   "id": "0b42af46-a436-4c3e-aec8-73e5e1a8e599",
   "metadata": {},
   "source": [
    "## Assign Cluster Labels to the Original Data\n"
   ]
  },
  {
   "cell_type": "code",
   "execution_count": 37,
   "id": "8a32fdf6-5423-4c7e-9563-915adb2bd8d8",
   "metadata": {},
   "outputs": [],
   "source": [
    "original_data = pd.read_excel(r\"C:/Users/Jyotika Phalswal/Downloads/Dataset_Identify customer segments for online retail with the use of K-means clustering\\Online Retail.xlsx\", sheet_name=\"Online Retail\")\n",
    "original_data['Cluster'] = df['Cluster']"
   ]
  },
  {
   "cell_type": "code",
   "execution_count": 38,
   "id": "0ea45ea7-fbb4-4559-89a8-48cb2fd0b783",
   "metadata": {},
   "outputs": [
    {
     "data": {
      "text/html": [
       "<div>\n",
       "<style scoped>\n",
       "    .dataframe tbody tr th:only-of-type {\n",
       "        vertical-align: middle;\n",
       "    }\n",
       "\n",
       "    .dataframe tbody tr th {\n",
       "        vertical-align: top;\n",
       "    }\n",
       "\n",
       "    .dataframe thead th {\n",
       "        text-align: right;\n",
       "    }\n",
       "</style>\n",
       "<table border=\"1\" class=\"dataframe\">\n",
       "  <thead>\n",
       "    <tr style=\"text-align: right;\">\n",
       "      <th></th>\n",
       "      <th>InvoiceNo</th>\n",
       "      <th>StockCode</th>\n",
       "      <th>Description</th>\n",
       "      <th>Quantity</th>\n",
       "      <th>InvoiceDate</th>\n",
       "      <th>UnitPrice</th>\n",
       "      <th>CustomerID</th>\n",
       "      <th>Country</th>\n",
       "      <th>Cluster</th>\n",
       "    </tr>\n",
       "  </thead>\n",
       "  <tbody>\n",
       "    <tr>\n",
       "      <th>0</th>\n",
       "      <td>536365</td>\n",
       "      <td>85123A</td>\n",
       "      <td>WHITE HANGING HEART T-LIGHT HOLDER</td>\n",
       "      <td>6</td>\n",
       "      <td>2010-12-01 08:26:00</td>\n",
       "      <td>2.55</td>\n",
       "      <td>17850.0</td>\n",
       "      <td>United Kingdom</td>\n",
       "      <td>0</td>\n",
       "    </tr>\n",
       "    <tr>\n",
       "      <th>1</th>\n",
       "      <td>536365</td>\n",
       "      <td>71053</td>\n",
       "      <td>WHITE METAL LANTERN</td>\n",
       "      <td>6</td>\n",
       "      <td>2010-12-01 08:26:00</td>\n",
       "      <td>3.39</td>\n",
       "      <td>17850.0</td>\n",
       "      <td>United Kingdom</td>\n",
       "      <td>0</td>\n",
       "    </tr>\n",
       "    <tr>\n",
       "      <th>2</th>\n",
       "      <td>536365</td>\n",
       "      <td>84406B</td>\n",
       "      <td>CREAM CUPID HEARTS COAT HANGER</td>\n",
       "      <td>8</td>\n",
       "      <td>2010-12-01 08:26:00</td>\n",
       "      <td>2.75</td>\n",
       "      <td>17850.0</td>\n",
       "      <td>United Kingdom</td>\n",
       "      <td>0</td>\n",
       "    </tr>\n",
       "    <tr>\n",
       "      <th>3</th>\n",
       "      <td>536365</td>\n",
       "      <td>84029G</td>\n",
       "      <td>KNITTED UNION FLAG HOT WATER BOTTLE</td>\n",
       "      <td>6</td>\n",
       "      <td>2010-12-01 08:26:00</td>\n",
       "      <td>3.39</td>\n",
       "      <td>17850.0</td>\n",
       "      <td>United Kingdom</td>\n",
       "      <td>0</td>\n",
       "    </tr>\n",
       "    <tr>\n",
       "      <th>4</th>\n",
       "      <td>536365</td>\n",
       "      <td>84029E</td>\n",
       "      <td>RED WOOLLY HOTTIE WHITE HEART.</td>\n",
       "      <td>6</td>\n",
       "      <td>2010-12-01 08:26:00</td>\n",
       "      <td>3.39</td>\n",
       "      <td>17850.0</td>\n",
       "      <td>United Kingdom</td>\n",
       "      <td>0</td>\n",
       "    </tr>\n",
       "  </tbody>\n",
       "</table>\n",
       "</div>"
      ],
      "text/plain": [
       "  InvoiceNo StockCode                          Description  Quantity  \\\n",
       "0    536365    85123A   WHITE HANGING HEART T-LIGHT HOLDER         6   \n",
       "1    536365     71053                  WHITE METAL LANTERN         6   \n",
       "2    536365    84406B       CREAM CUPID HEARTS COAT HANGER         8   \n",
       "3    536365    84029G  KNITTED UNION FLAG HOT WATER BOTTLE         6   \n",
       "4    536365    84029E       RED WOOLLY HOTTIE WHITE HEART.         6   \n",
       "\n",
       "          InvoiceDate  UnitPrice  CustomerID         Country  Cluster  \n",
       "0 2010-12-01 08:26:00       2.55     17850.0  United Kingdom        0  \n",
       "1 2010-12-01 08:26:00       3.39     17850.0  United Kingdom        0  \n",
       "2 2010-12-01 08:26:00       2.75     17850.0  United Kingdom        0  \n",
       "3 2010-12-01 08:26:00       3.39     17850.0  United Kingdom        0  \n",
       "4 2010-12-01 08:26:00       3.39     17850.0  United Kingdom        0  "
      ]
     },
     "execution_count": 38,
     "metadata": {},
     "output_type": "execute_result"
    }
   ],
   "source": [
    "# Display the first 5 rows of the dataset with cluster label\n",
    "original_data.head()"
   ]
  },
  {
   "cell_type": "markdown",
   "id": "7839da30-7add-42ff-b1da-1c9527b7f7bb",
   "metadata": {},
   "source": [
    "## Analyze Each Segment"
   ]
  },
  {
   "cell_type": "code",
   "execution_count": 39,
   "id": "4182aa37-0ce1-4b47-82d4-34b158f1c25d",
   "metadata": {},
   "outputs": [],
   "source": [
    "cluster_summary = original_data.groupby('Cluster').agg({\n",
    "    'Quantity': ['mean', 'median', 'std'],\n",
    "    'UnitPrice': ['mean', 'median', 'std']\n",
    "}).reset_index()"
   ]
  },
  {
   "cell_type": "code",
   "execution_count": 40,
   "id": "c27e4bbf-c886-4b2d-91d4-f4000d3e0e52",
   "metadata": {},
   "outputs": [
    {
     "name": "stdout",
     "output_type": "stream",
     "text": [
      "  Cluster      Quantity                          UnitPrice           \\\n",
      "                   mean   median          std         mean   median   \n",
      "0       0      9.266447      3.0   159.049517     4.054723     2.08   \n",
      "1       1     -0.806452     -1.0     0.601074  9730.436452  6930.00   \n",
      "2       2  77605.000000  77605.0  4794.183976     1.560000     1.56   \n",
      "\n",
      "                \n",
      "           std  \n",
      "0    38.715649  \n",
      "1  6655.498688  \n",
      "2     0.735391  \n"
     ]
    }
   ],
   "source": [
    "print(cluster_summary)"
   ]
  },
  {
   "cell_type": "code",
   "execution_count": 41,
   "id": "df7ef337-d31e-459c-bf8d-6b82b91610bc",
   "metadata": {},
   "outputs": [],
   "source": [
    "df_summary = pd.DataFrame(cluster_summary)"
   ]
  },
  {
   "cell_type": "code",
   "execution_count": 45,
   "id": "a5a7c26a-9a91-4e26-aa50-1ed9530d29f1",
   "metadata": {},
   "outputs": [],
   "source": [
    "# Flatten the multi-level columns\n",
    "df_summary.columns = ['Cluster', 'Mean Quantity', 'Median Quantity', 'Quantity StdDev', \n",
    "                      'Mean UnitPrice', 'Median UnitPrice', 'UnitPrice StdDev']"
   ]
  },
  {
   "cell_type": "code",
   "execution_count": 46,
   "id": "97306bcc-e624-4040-a31f-7b6b2a27c8e7",
   "metadata": {},
   "outputs": [
    {
     "data": {
      "text/html": [
       "<div>\n",
       "<style scoped>\n",
       "    .dataframe tbody tr th:only-of-type {\n",
       "        vertical-align: middle;\n",
       "    }\n",
       "\n",
       "    .dataframe tbody tr th {\n",
       "        vertical-align: top;\n",
       "    }\n",
       "\n",
       "    .dataframe thead th {\n",
       "        text-align: right;\n",
       "    }\n",
       "</style>\n",
       "<table border=\"1\" class=\"dataframe\">\n",
       "  <thead>\n",
       "    <tr style=\"text-align: right;\">\n",
       "      <th></th>\n",
       "      <th>Cluster</th>\n",
       "      <th>Mean Quantity</th>\n",
       "      <th>Median Quantity</th>\n",
       "      <th>Quantity StdDev</th>\n",
       "      <th>Mean UnitPrice</th>\n",
       "      <th>Median UnitPrice</th>\n",
       "      <th>UnitPrice StdDev</th>\n",
       "    </tr>\n",
       "  </thead>\n",
       "  <tbody>\n",
       "    <tr>\n",
       "      <th>0</th>\n",
       "      <td>0</td>\n",
       "      <td>9.266447</td>\n",
       "      <td>3.0</td>\n",
       "      <td>159.049517</td>\n",
       "      <td>4.054723</td>\n",
       "      <td>2.08</td>\n",
       "      <td>38.715649</td>\n",
       "    </tr>\n",
       "    <tr>\n",
       "      <th>1</th>\n",
       "      <td>1</td>\n",
       "      <td>-0.806452</td>\n",
       "      <td>-1.0</td>\n",
       "      <td>0.601074</td>\n",
       "      <td>9730.436452</td>\n",
       "      <td>6930.00</td>\n",
       "      <td>6655.498688</td>\n",
       "    </tr>\n",
       "    <tr>\n",
       "      <th>2</th>\n",
       "      <td>2</td>\n",
       "      <td>77605.000000</td>\n",
       "      <td>77605.0</td>\n",
       "      <td>4794.183976</td>\n",
       "      <td>1.560000</td>\n",
       "      <td>1.56</td>\n",
       "      <td>0.735391</td>\n",
       "    </tr>\n",
       "  </tbody>\n",
       "</table>\n",
       "</div>"
      ],
      "text/plain": [
       "   Cluster  Mean Quantity  Median Quantity  Quantity StdDev  Mean UnitPrice  \\\n",
       "0        0       9.266447              3.0       159.049517        4.054723   \n",
       "1        1      -0.806452             -1.0         0.601074     9730.436452   \n",
       "2        2   77605.000000          77605.0      4794.183976        1.560000   \n",
       "\n",
       "   Median UnitPrice  UnitPrice StdDev  \n",
       "0              2.08         38.715649  \n",
       "1           6930.00       6655.498688  \n",
       "2              1.56          0.735391  "
      ]
     },
     "execution_count": 46,
     "metadata": {},
     "output_type": "execute_result"
    }
   ],
   "source": [
    "df_summary"
   ]
  },
  {
   "cell_type": "code",
   "execution_count": 48,
   "id": "da4eb869-6452-4122-922a-ffb21cde1dc5",
   "metadata": {},
   "outputs": [
    {
     "data": {
      "image/png": "[encoded data removed]",
      "text/plain": [
       "<Figure size 1200x1000 with 2 Axes>"
      ]
     },
     "metadata": {},
     "output_type": "display_data"
    }
   ],
   "source": [
    "# Plotting Mean Quantity and Mean UnitPrice\n",
    "fig, ax = plt.subplots(2, 1, figsize=(12, 10))\n",
    "df_summary.plot(kind='bar', x='Cluster', y=['Mean Quantity', 'Median Quantity'], ax=ax[0])\n",
    "ax[0].set_title('Mean and Median Quantity by Cluster')\n",
    "ax[0].set_ylabel('Quantity')\n",
    "ax[0].legend(loc='upper left')\n",
    "ax[0].grid(True)\n",
    "\n",
    "# Plotting Mean and Median Unit Price by Cluster\n",
    "df_summary.plot(kind='bar', x='Cluster', y=['Mean UnitPrice', 'Median UnitPrice'], ax=ax[1])\n",
    "ax[1].set_title('Mean and Median Unit Price by Cluster')\n",
    "ax[1].set_ylabel('Unit Price')\n",
    "ax[1].legend(loc='upper left')\n",
    "ax[1].grid(True)"
   ]
  },
  {
   "cell_type": "markdown",
   "id": "dd921bfa-cf9a-4a9f-b41b-dff6588f632f",
   "metadata": {},
   "source": [
    "## Profile the Customer Segments"
   ]
  },
  {
   "cell_type": "code",
   "execution_count": 49,
   "id": "91c46d01-df1c-44a8-9ca3-98860cc97051",
   "metadata": {},
   "outputs": [
    {
     "name": "stdout",
     "output_type": "stream",
     "text": [
      "Cluster 0 Profile:\n",
      "Mean Quantity: 9.266446567111295\n",
      "Mean UnitPrice: 4.054723449645307\n",
      "Number of Customers: 4372\n",
      "----------------------------------------\n",
      "Cluster 1 Profile:\n",
      "Mean Quantity: -0.8064516129032258\n",
      "Mean UnitPrice: 9730.436451612904\n",
      "Number of Customers: 2\n",
      "----------------------------------------\n",
      "Cluster 2 Profile:\n",
      "Mean Quantity: 77605.0\n",
      "Mean UnitPrice: 1.56\n",
      "Number of Customers: 2\n",
      "----------------------------------------\n"
     ]
    }
   ],
   "source": [
    "# Profile the Customer Segments\n",
    "for cluster in original_data['Cluster'].unique():\n",
    "    cluster_data = original_data[original_data['Cluster'] == cluster]\n",
    "    print(f\"Cluster {cluster} Profile:\")\n",
    "    print(f\"Mean Quantity: {cluster_data['Quantity'].mean()}\")\n",
    "    print(f\"Mean UnitPrice: {cluster_data['UnitPrice'].mean()}\")\n",
    "    print(f\"Number of Customers: {cluster_data['CustomerID'].nunique()}\")\n",
    "    print(\"-\" * 40)"
   ]
  },
  {
   "cell_type": "code",
   "execution_count": 50,
   "id": "bc4b0070-ecaa-4bb4-b2a0-7e8978937e0d",
   "metadata": {},
   "outputs": [
    {
     "data": {
      "text/plain": [
       "<Figure size 1500x500 with 0 Axes>"
      ]
     },
     "execution_count": 50,
     "metadata": {},
     "output_type": "execute_result"
    },
    {
     "data": {
      "text/plain": [
       "<Figure size 1500x500 with 0 Axes>"
      ]
     },
     "metadata": {},
     "output_type": "display_data"
    }
   ],
   "source": [
    "# Visualization of cluster profiles\n",
    "plt.figure(figsize=(15, 5))"
   ]
  },
  {
   "cell_type": "code",
   "execution_count": 51,
   "id": "d23f1411-83df-43cf-a48a-527ae61225ca",
   "metadata": {},
   "outputs": [
    {
     "data": {
      "image/png": "[encoded data removed]",
      "text/plain": [
       "<Figure size 640x480 with 1 Axes>"
      ]
     },
     "metadata": {},
     "output_type": "display_data"
    }
   ],
   "source": [
    "# Quantity box plot\n",
    "plt.subplot(1, 2, 1)\n",
    "sns.boxplot(x='Cluster', y='Quantity', data=original_data)\n",
    "plt.title('Quantity Distribution by Cluster')\n",
    "plt.tight_layout()\n",
    "plt.show()"
   ]
  },
  {
   "cell_type": "code",
   "execution_count": 55,
   "id": "c5ee8662-a0be-4b05-a863-e85d7cf99ce9",
   "metadata": {},
   "outputs": [
    {
     "data": {
      "image/png": "[encoded data removed]",
      "text/plain": [
       "<Figure size 640x480 with 1 Axes>"
      ]
     },
     "metadata": {},
     "output_type": "display_data"
    }
   ],
   "source": [
    "# UnitPrice box plot\n",
    "plt.subplot(1, 2, 2)\n",
    "sns.boxplot(x='Cluster', y='UnitPrice', data=original_data)\n",
    "plt.title('UnitPrice Distribution by Cluster')\n",
    "plt.tight_layout()\n",
    "plt.show()"
   ]
  },
  {
   "cell_type": "code",
   "execution_count": null,
   "id": "61cfb1f1-206e-4f7e-b131-bf73031ad04e",
   "metadata": {},
   "outputs": [],
   "source": []
  }
 ],
 "metadata": {
  "kernelspec": {
   "display_name": "Python 3 (ipykernel)",
   "language": "python",
   "name": "python3"
  },
  "language_info": {
   "codemirror_mode": {
    "name": "ipython",
    "version": 3
   },
   "file_extension": ".py",
   "mimetype": "text/x-python",
   "name": "python",
   "nbconvert_exporter": "python",
   "pygments_lexer": "ipython3",
   "version": "3.12.4"
  }
 },
 "nbformat": 4,
 "nbformat_minor": 5
}
